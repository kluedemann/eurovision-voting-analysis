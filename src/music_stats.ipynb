{
 "cells": [
  {
   "cell_type": "code",
   "execution_count": 1,
   "metadata": {},
   "outputs": [],
   "source": [
    "import spotipy\n",
    "from spotipy.oauth2 import SpotifyClientCredentials\n",
    "import pandas as pd"
   ]
  },
  {
   "cell_type": "code",
   "execution_count": 2,
   "metadata": {},
   "outputs": [],
   "source": [
    "def get_top_artists_and_genres(country_code, year, top_participants):\n",
    "    # Spotify Developers config\n",
    "    sp = spotipy.Spotify(auth_manager=SpotifyClientCredentials(\n",
    "        client_id=\"a3474de75f7a46958ec378068b92b67b\",\n",
    "        client_secret=\"68db44e4b47f402289d4af92dbf7dae9\"\n",
    "    ))\n",
    "\n",
    "    artists_count = {}\n",
    "    genres_count = {}\n",
    "\n",
    "    results = sp.search(q=f\"year:{year}\", type=\"track\", market=country_code, limit=50)\n",
    "\n",
    "    for item in results['tracks']['items']:\n",
    "        for artist in item['artists']:\n",
    "            artist_info = sp.artist(artist['id'])\n",
    "\n",
    "            # Count artists\n",
    "            artist_name = artist_info['name']\n",
    "            artists_count[artist_name] = artists_count.get(artist_name, 0) + 1\n",
    "\n",
    "            # Count genres\n",
    "            for genre in artist_info['genres']:\n",
    "                genres_count[genre] = genres_count.get(genre, 0) + 1\n",
    "\n",
    "    top_artists = sorted(artists_count.items(), key=lambda x: x[1], reverse=True)[:top_participants]\n",
    "    top_genres = sorted(genres_count.items(), key=lambda x: x[1], reverse=True)[:top_participants]\n",
    "\n",
    "    return [artist[0] for artist in top_artists], [genre[0] for genre in top_genres]"
   ]
  },
  {
   "cell_type": "code",
   "execution_count": 6,
   "metadata": {},
   "outputs": [
    {
     "name": "stdout",
     "output_type": "stream",
     "text": [
      "Top 50 Artists: ['KAROL G', 'Quevedo', 'Myke Towers', 'Manuel Turizo', 'Feid', 'DELLAFUENTE', 'Morad', 'Marta Santos', 'Milo j', 'Dei V', 'Teddy Swims', 'Emilia', 'ATL Jacob', 'Ghost Killer Track', 'Kidd Keo', 'Sebastian Yatra', 'Beéle', 'Bad Bunny', 'Taiu', 'La La Love You', 'Samuraï', 'Arde Bogotá', 'Sky Rompiendo', 'Rauw Alejandro', 'Miley Cyrus', 'Peso Pluma', 'JC Reyes', 'Pedro Calderon', 'Blacknife', 'Isabel Aaiún', 'Fernando Moreno', 'Marshmello', 'Manuel Carrasco', 'Camilo', 'GRECAS', 'JCC', 'Lola Indigo', 'MARLENA', 'YOVNGCHIMI', 'Shakira', 'Omar Courtz', 'De La Rose', 'Haze', 'céro', 'Beny Jr', 'Rels B', 'Gaby Music', 'Lunay', 'Luar La L', 'Mora']\n",
      "Top 50 Genres: ['reggaeton', 'urbano latino', 'trap latino', 'latin', 'argentine trap', 'flamenco urbano', 'flamenco', 'colombian pop', 'trap', 'flamenco pop', 'cuarteto', 'drill', 'latin pop', 'cumbia', 'indie', 'corrido', 'corridos tumbados', 'corridos bélicos', 'música mexicana', 'sad sierreño', 'electro corridos', 'banda', 'edm', 'rkt', 'turreo']\n"
     ]
    }
   ],
   "source": [
    "country_code = \"ES\"\n",
    "top_participants = 50\n",
    "\n",
    "\"\"\"year = 2022\n",
    "top_artists, top_genres = get_top_artists_and_genres(country_code, year, top_participants)\n",
    "print(f\"Top {top_participants} Artists:\", top_artists)\n",
    "print(f\"Top {top_participants} Genres:\", top_genres)\"\"\"\n",
    "\n",
    "year = 2023\n",
    "top_artists, top_genres = get_top_artists_and_genres(country_code, year, top_participants)\n",
    "print(f\"Top {top_participants} Artists:\", top_artists)\n",
    "print(f\"Top {top_participants} Genres:\", top_genres)"
   ]
  },
  {
   "cell_type": "code",
   "execution_count": 4,
   "metadata": {},
   "outputs": [
    {
     "data": {
      "text/plain": [
       "array(['at', 'be', 'dk', 'fr', 'de', 'it', 'lu', 'nl', 'ch', 'gb', 'se',\n",
       "       'mc', 'no', 'fi', 'es', 'yu', 'pt', 'ie', 'mt', 'il', 'gr', 'tr',\n",
       "       'ma', 'cy', 'is', 'ba', 'hr', 'si', 'ee', 'hu', 'lt', 'pl', 'ro',\n",
       "       'ru', 'sk', 'mk', 'lv', 'ua', 'al', 'ad', 'by', 'cs', 'bg', 'md',\n",
       "       'am', 'cz', 'ge', 'me', 'rs', 'az', 'sm', 'au', 'wld'],\n",
       "      dtype=object)"
      ]
     },
     "execution_count": 4,
     "metadata": {},
     "output_type": "execute_result"
    }
   ],
   "source": [
    "data = pd.read_csv(\"vote_distances.csv\")\n",
    "country_codes = data[\"from_country\"].dropna().unique()\n",
    "country_codes"
   ]
  },
  {
   "cell_type": "code",
   "execution_count": 10,
   "metadata": {},
   "outputs": [],
   "source": [
    "try:\n",
    "    top_artists = ['KAROL G', 'Quevedo', 'Myke Towers', 'Manuel Turizo', 'Feid', 'DELLAFUENTE', 'Morad', 'Marta Santos', 'Milo j', 'Dei V', 'Teddy Swims', 'Emilia', 'ATL Jacob', 'Ghost Killer Track', 'Kidd Keo', 'Sebastian Yatra', 'Beéle', 'Bad Bunny', 'Taiu', 'La La Love You', 'Samuraï', 'Arde Bogotá', 'Sky Rompiendo', 'Rauw Alejandro', 'Miley Cyrus', 'Peso Pluma', 'JC Reyes', 'Pedro Calderon', 'Blacknife', 'Isabel Aaiún', 'Fernando Moreno', 'Marshmello', 'Manuel Carrasco', 'Camilo', 'GRECAS', 'JCC', 'Lola Indigo', 'MARLENA', 'YOVNGCHIMI', 'Shakira', 'Omar Courtz', 'De La Rose', 'Haze', 'céro', 'Beny Jr', 'Rels B', 'Gaby Music', 'Lunay', 'Luar La L', 'Mora']\n",
    "    top_genres = ['reggaeton', 'urbano latino', 'trap latino', 'latin', 'argentine trap', 'flamenco urbano', 'flamenco', 'colombian pop', 'trap', 'flamenco pop', 'cuarteto', 'drill', 'latin pop', 'cumbia', 'indie', 'corrido', 'corridos tumbados', 'corridos bélicos', 'música mexicana', 'sad sierreño', 'electro corridos', 'banda', 'edm', 'rkt', 'turreo']\n",
    "    country_code = \"es\"\n",
    "    top_artists_str = \", \".join(top_artists)\n",
    "    top_genres_str = \", \".join(top_genres)\n",
    "\n",
    "    # Create DataFrame with a single row\n",
    "    row = pd.DataFrame({\n",
    "        \"Country Code\": [country_code],\n",
    "        \"Top artists\": [top_artists_str],\n",
    "        \"Top genres\": [top_genres_str]\n",
    "    })\n",
    "\n",
    "    # Append to CSV file\n",
    "    row.to_csv(\"top_artists_genres.csv\", mode=\"a\", header=False, index=False, encoding=\"utf-8\")\n",
    "except Exception as e:\n",
    "    print(f\"Error while processing {country_code}\")"
   ]
  },
  {
   "cell_type": "code",
   "execution_count": 13,
   "metadata": {},
   "outputs": [
    {
     "name": "stdout",
     "output_type": "stream",
     "text": [
      "at done\n"
     ]
    },
    {
     "name": "stderr",
     "output_type": "stream",
     "text": [
      "WARNING:root:Your application has reached a rate/request limit. Retry will occur after: 1\n"
     ]
    },
    {
     "name": "stdout",
     "output_type": "stream",
     "text": [
      "be done\n"
     ]
    },
    {
     "name": "stderr",
     "output_type": "stream",
     "text": [
      "WARNING:root:Your application has reached a rate/request limit. Retry will occur after: 4\n",
      "WARNING:root:Your application has reached a rate/request limit. Retry will occur after: 1\n"
     ]
    },
    {
     "name": "stdout",
     "output_type": "stream",
     "text": [
      "dk done\n",
      "fr done\n"
     ]
    },
    {
     "name": "stderr",
     "output_type": "stream",
     "text": [
      "WARNING:root:Your application has reached a rate/request limit. Retry will occur after: 1\n"
     ]
    },
    {
     "name": "stdout",
     "output_type": "stream",
     "text": [
      "de done\n"
     ]
    },
    {
     "name": "stderr",
     "output_type": "stream",
     "text": [
      "WARNING:root:Your application has reached a rate/request limit. Retry will occur after: 1\n",
      "WARNING:root:Your application has reached a rate/request limit. Retry will occur after: 1\n"
     ]
    },
    {
     "name": "stdout",
     "output_type": "stream",
     "text": [
      "it done\n",
      "lu done\n",
      "nl done\n",
      "ch done\n"
     ]
    },
    {
     "name": "stderr",
     "output_type": "stream",
     "text": [
      "WARNING:root:Your application has reached a rate/request limit. Retry will occur after: 1\n",
      "WARNING:root:Your application has reached a rate/request limit. Retry will occur after: 1\n"
     ]
    },
    {
     "name": "stdout",
     "output_type": "stream",
     "text": [
      "gb done\n",
      "se done\n"
     ]
    },
    {
     "name": "stderr",
     "output_type": "stream",
     "text": [
      "WARNING:root:Your application has reached a rate/request limit. Retry will occur after: 1\n"
     ]
    },
    {
     "name": "stdout",
     "output_type": "stream",
     "text": [
      "mc done\n",
      "no done\n"
     ]
    },
    {
     "name": "stderr",
     "output_type": "stream",
     "text": [
      "WARNING:root:Your application has reached a rate/request limit. Retry will occur after: 1\n",
      "WARNING:root:Your application has reached a rate/request limit. Retry will occur after: 1\n"
     ]
    },
    {
     "name": "stdout",
     "output_type": "stream",
     "text": [
      "fi done\n"
     ]
    },
    {
     "name": "stderr",
     "output_type": "stream",
     "text": [
      "WARNING:root:Your application has reached a rate/request limit. Retry will occur after: 3\n",
      "WARNING:root:Your application has reached a rate/request limit. Retry will occur after: 1\n",
      "ERROR:spotipy.client:HTTP Error for GET to https://api.spotify.com/v1/search with Params: {'q': 'year:2024', 'limit': 50, 'offset': 0, 'type': 'track', 'market': 'yu'} returned 401 due to Unauthorized\n"
     ]
    },
    {
     "name": "stdout",
     "output_type": "stream",
     "text": [
      "es done\n",
      "Error while processing yu\n"
     ]
    },
    {
     "name": "stderr",
     "output_type": "stream",
     "text": [
      "WARNING:root:Your application has reached a rate/request limit. Retry will occur after: 3\n",
      "WARNING:root:Your application has reached a rate/request limit. Retry will occur after: 1\n"
     ]
    },
    {
     "name": "stdout",
     "output_type": "stream",
     "text": [
      "pt done\n",
      "ie done\n",
      "mt done\n",
      "il done\n"
     ]
    },
    {
     "name": "stderr",
     "output_type": "stream",
     "text": [
      "WARNING:root:Your application has reached a rate/request limit. Retry will occur after: 1\n",
      "WARNING:root:Your application has reached a rate/request limit. Retry will occur after: 1\n"
     ]
    },
    {
     "name": "stdout",
     "output_type": "stream",
     "text": [
      "gr done\n",
      "tr done\n"
     ]
    },
    {
     "name": "stderr",
     "output_type": "stream",
     "text": [
      "WARNING:root:Your application has reached a rate/request limit. Retry will occur after: 1\n",
      "WARNING:root:Your application has reached a rate/request limit. Retry will occur after: 1\n"
     ]
    },
    {
     "name": "stdout",
     "output_type": "stream",
     "text": [
      "ma done\n",
      "cy done\n",
      "is done\n",
      "ba done\n"
     ]
    },
    {
     "name": "stderr",
     "output_type": "stream",
     "text": [
      "WARNING:root:Your application has reached a rate/request limit. Retry will occur after: 1\n"
     ]
    },
    {
     "name": "stdout",
     "output_type": "stream",
     "text": [
      "hr done\n",
      "si done\n",
      "ee done\n",
      "hu done\n",
      "lt done\n",
      "pl done\n"
     ]
    },
    {
     "name": "stderr",
     "output_type": "stream",
     "text": [
      "WARNING:root:Your application has reached a rate/request limit. Retry will occur after: 1\n",
      "WARNING:root:Your application has reached a rate/request limit. Retry will occur after: 1\n"
     ]
    },
    {
     "name": "stdout",
     "output_type": "stream",
     "text": [
      "ro done\n"
     ]
    },
    {
     "name": "stderr",
     "output_type": "stream",
     "text": [
      "WARNING:root:Your application has reached a rate/request limit. Retry will occur after: 2\n",
      "WARNING:root:Your application has reached a rate/request limit. Retry will occur after: 1\n"
     ]
    },
    {
     "name": "stdout",
     "output_type": "stream",
     "text": [
      "ru done\n",
      "sk done\n"
     ]
    },
    {
     "name": "stderr",
     "output_type": "stream",
     "text": [
      "WARNING:root:Your application has reached a rate/request limit. Retry will occur after: 2\n",
      "WARNING:root:Your application has reached a rate/request limit. Retry will occur after: 1\n"
     ]
    },
    {
     "name": "stdout",
     "output_type": "stream",
     "text": [
      "mk done\n",
      "lv done\n",
      "ua done\n",
      "al done\n"
     ]
    },
    {
     "name": "stderr",
     "output_type": "stream",
     "text": [
      "WARNING:root:Your application has reached a rate/request limit. Retry will occur after: 1\n"
     ]
    },
    {
     "name": "stdout",
     "output_type": "stream",
     "text": [
      "ad done\n"
     ]
    },
    {
     "name": "stderr",
     "output_type": "stream",
     "text": [
      "ERROR:spotipy.client:HTTP Error for GET to https://api.spotify.com/v1/search with Params: {'q': 'year:2024', 'limit': 50, 'offset': 0, 'type': 'track', 'market': 'cs'} returned 401 due to Unauthorized\n"
     ]
    },
    {
     "name": "stdout",
     "output_type": "stream",
     "text": [
      "by done\n",
      "Error while processing cs\n"
     ]
    },
    {
     "name": "stderr",
     "output_type": "stream",
     "text": [
      "WARNING:root:Your application has reached a rate/request limit. Retry will occur after: 1\n",
      "WARNING:root:Your application has reached a rate/request limit. Retry will occur after: 1\n"
     ]
    },
    {
     "name": "stdout",
     "output_type": "stream",
     "text": [
      "bg done\n"
     ]
    },
    {
     "name": "stderr",
     "output_type": "stream",
     "text": [
      "WARNING:root:Your application has reached a rate/request limit. Retry will occur after: 4\n",
      "WARNING:root:Your application has reached a rate/request limit. Retry will occur after: 1\n"
     ]
    },
    {
     "name": "stdout",
     "output_type": "stream",
     "text": [
      "md done\n",
      "am done\n"
     ]
    },
    {
     "name": "stderr",
     "output_type": "stream",
     "text": [
      "WARNING:root:Your application has reached a rate/request limit. Retry will occur after: 2\n",
      "WARNING:root:Your application has reached a rate/request limit. Retry will occur after: 1\n"
     ]
    },
    {
     "name": "stdout",
     "output_type": "stream",
     "text": [
      "cz done\n",
      "ge done\n",
      "me done\n"
     ]
    },
    {
     "name": "stderr",
     "output_type": "stream",
     "text": [
      "WARNING:root:Your application has reached a rate/request limit. Retry will occur after: 4\n",
      "WARNING:root:Your application has reached a rate/request limit. Retry will occur after: 1\n"
     ]
    },
    {
     "name": "stdout",
     "output_type": "stream",
     "text": [
      "rs done\n",
      "az done\n",
      "sm done\n"
     ]
    },
    {
     "name": "stderr",
     "output_type": "stream",
     "text": [
      "ERROR:spotipy.client:HTTP Error for GET to https://api.spotify.com/v1/search with Params: {'q': 'year:2024', 'limit': 50, 'offset': 0, 'type': 'track', 'market': 'wld'} returned 401 due to Unauthorized\n"
     ]
    },
    {
     "name": "stdout",
     "output_type": "stream",
     "text": [
      "au done\n",
      "Error while processing wld\n"
     ]
    },
    {
     "data": {
      "text/plain": [
       "{}"
      ]
     },
     "execution_count": 13,
     "metadata": {},
     "output_type": "execute_result"
    }
   ],
   "source": [
    "results = {}\n",
    "year = 2024\n",
    "top_participants = 50\n",
    "for country_code in country_codes:\n",
    "    try:\n",
    "        top_artists, top_genres = get_top_artists_and_genres(country_code, year, top_participants)\n",
    "        top_artists_str = \", \".join(top_artists)\n",
    "        top_genres_str = \", \".join(top_genres)\n",
    "\n",
    "        row = pd.DataFrame({\n",
    "            \"Country Code\": [country_code],\n",
    "            \"Top artists\": [top_artists_str],\n",
    "            \"Top genres\": [top_genres_str]\n",
    "        })\n",
    "        row.to_csv(\"../data/top_artists_genres.csv\", mode=\"a\", header=False, index=False, encoding=\"utf-8\")\n",
    "        \n",
    "        print(f\"{country_code} done\")\n",
    "    except Exception as e:\n",
    "        print(f\"Error while processing {country_code}\")   \n",
    "\n",
    "results "
   ]
  }
 ],
 "metadata": {
  "kernelspec": {
   "display_name": "Python 3",
   "language": "python",
   "name": "python3"
  },
  "language_info": {
   "codemirror_mode": {
    "name": "ipython",
    "version": 3
   },
   "file_extension": ".py",
   "mimetype": "text/x-python",
   "name": "python",
   "nbconvert_exporter": "python",
   "pygments_lexer": "ipython3",
   "version": "3.11.5"
  }
 },
 "nbformat": 4,
 "nbformat_minor": 2
}
