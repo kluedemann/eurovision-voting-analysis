{
 "cells": [
  {
   "cell_type": "markdown",
   "metadata": {},
   "source": [
    "# Data Processing"
   ]
  },
  {
   "cell_type": "markdown",
   "metadata": {},
   "source": [
    "## Data Summary\n",
    "- Eurovision votes - votes.csv\n",
    "    - Eurovisionworld fan website\n",
    "    - ISO alpha-2 country codes\n",
    "- Country codes\n",
    "    - TODO: Find dataset\n",
    "    - Can webscrape from official [ISO website](https://www.iso.org/obp/ui/#search)\n",
    "    - Need ISO alpha-2 and ISO alpha-3\n",
    "- Country capitals\n",
    "    - TODO: Find dataset\n",
    "- Religious demographic data\n",
    "    - WRP_national.csv\n",
    "    - ISO alpha-3 country codes\n",
    "- GDP data\n",
    "    - World_Bank_Data.csv\n",
    "    - ISO alpha-3 country codes"
   ]
  }
 ],
 "metadata": {
  "language_info": {
   "name": "python"
  }
 },
 "nbformat": 4,
 "nbformat_minor": 2
}
