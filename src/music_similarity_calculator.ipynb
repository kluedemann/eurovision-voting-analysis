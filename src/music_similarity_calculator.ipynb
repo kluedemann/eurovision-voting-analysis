{
 "cells": [
  {
   "cell_type": "code",
   "execution_count": 1,
   "metadata": {},
   "outputs": [],
   "source": [
    "import numpy as np\n",
    "import pandas as pd"
   ]
  },
  {
   "cell_type": "code",
   "execution_count": 3,
   "metadata": {},
   "outputs": [
    {
     "data": {
      "text/html": [
       "<div>\n",
       "<style scoped>\n",
       "    .dataframe tbody tr th:only-of-type {\n",
       "        vertical-align: middle;\n",
       "    }\n",
       "\n",
       "    .dataframe tbody tr th {\n",
       "        vertical-align: top;\n",
       "    }\n",
       "\n",
       "    .dataframe thead th {\n",
       "        text-align: right;\n",
       "    }\n",
       "</style>\n",
       "<table border=\"1\" class=\"dataframe\">\n",
       "  <thead>\n",
       "    <tr style=\"text-align: right;\">\n",
       "      <th></th>\n",
       "      <th>Country Code</th>\n",
       "      <th>Top artists</th>\n",
       "      <th>Top genres</th>\n",
       "    </tr>\n",
       "  </thead>\n",
       "  <tbody>\n",
       "    <tr>\n",
       "      <th>0</th>\n",
       "      <td>at</td>\n",
       "      <td>Jazeek, Bruno Mars, Billie Eilish, Linkin Park...</td>\n",
       "      <td>german hip hop, afro house, german pop, nu met...</td>\n",
       "    </tr>\n",
       "    <tr>\n",
       "      <th>1</th>\n",
       "      <td>be</td>\n",
       "      <td>Bruno Mars, Billie Eilish, GIMS, Gracie Abrams...</td>\n",
       "      <td>pop urbaine, french pop, afro house, chanson, ...</td>\n",
       "    </tr>\n",
       "    <tr>\n",
       "      <th>2</th>\n",
       "      <td>dk</td>\n",
       "      <td>Annika, Lamin, Gilli, Benny Jamz, Tobias Rahim...</td>\n",
       "      <td>dansktop, norwegian rap, west coast hip hop, n...</td>\n",
       "    </tr>\n",
       "    <tr>\n",
       "      <th>3</th>\n",
       "      <td>fr</td>\n",
       "      <td>GIMS, SDM, Bruno Mars, Stromae, Pomme, Arcane,...</td>\n",
       "      <td>pop urbaine, french pop, chanson, zouk, variét...</td>\n",
       "    </tr>\n",
       "    <tr>\n",
       "      <th>4</th>\n",
       "      <td>de</td>\n",
       "      <td>Jazeek, Luciano, Bruno Mars, Linkin Park, LACA...</td>\n",
       "      <td>german hip hop, german pop, afro house, nu met...</td>\n",
       "    </tr>\n",
       "  </tbody>\n",
       "</table>\n",
       "</div>"
      ],
      "text/plain": [
       "  Country Code                                        Top artists  \\\n",
       "0           at  Jazeek, Bruno Mars, Billie Eilish, Linkin Park...   \n",
       "1           be  Bruno Mars, Billie Eilish, GIMS, Gracie Abrams...   \n",
       "2           dk  Annika, Lamin, Gilli, Benny Jamz, Tobias Rahim...   \n",
       "3           fr  GIMS, SDM, Bruno Mars, Stromae, Pomme, Arcane,...   \n",
       "4           de  Jazeek, Luciano, Bruno Mars, Linkin Park, LACA...   \n",
       "\n",
       "                                          Top genres  \n",
       "0  german hip hop, afro house, german pop, nu met...  \n",
       "1  pop urbaine, french pop, afro house, chanson, ...  \n",
       "2  dansktop, norwegian rap, west coast hip hop, n...  \n",
       "3  pop urbaine, french pop, chanson, zouk, variét...  \n",
       "4  german hip hop, german pop, afro house, nu met...  "
      ]
     },
     "execution_count": 3,
     "metadata": {},
     "output_type": "execute_result"
    }
   ],
   "source": [
    "df = pd.read_csv(\"../data/top_artists_genres.csv\", encoding=\"utf-8\", header=None)\n",
    "df.columns = [\"Country Code\", \"Top artists\", \"Top genres\"]\n",
    "df.head()"
   ]
  },
  {
   "cell_type": "code",
   "execution_count": 4,
   "metadata": {},
   "outputs": [
    {
     "name": "stdout",
     "output_type": "stream",
     "text": [
      "Similarity matrices saved.\n"
     ]
    }
   ],
   "source": [
    "# Convert artists and genres into sets for easy comparison\n",
    "df[\"Top Artists\"] = df.iloc[:, 1].apply(lambda x: set(str(x).split(\", \")[:30]))\n",
    "df[\"Top Genres\"] = df.iloc[:, 2].apply(lambda x: set(str(x).split(\", \")))\n",
    "\n",
    "# Extract country codes\n",
    "countries = df.iloc[:, 0].values\n",
    "num_countries = len(countries)\n",
    "\n",
    "artists_similarity = np.zeros((num_countries, num_countries), dtype=int)\n",
    "genres_similarity = np.zeros((num_countries, num_countries), dtype=int)\n",
    "\n",
    "# Compute similarities\n",
    "for i in range(num_countries):\n",
    "    for j in range(i, num_countries):  # Only compute upper triangle (symmetry)\n",
    "        if i == j:\n",
    "            artists_similarity[i, j] = len(df[\"Top Artists\"].iloc[i])\n",
    "            genres_similarity[i, j] = len(df[\"Top Genres\"].iloc[i])\n",
    "        else:\n",
    "            artists_similarity[i, j] = artists_similarity[j, i] = len(df[\"Top Artists\"].iloc[i] & df[\"Top Artists\"].iloc[j])\n",
    "            genres_similarity[i, j] = genres_similarity[j, i] = len(df[\"Top Genres\"].iloc[i] & df[\"Top Genres\"].iloc[j])\n",
    "\n",
    "\n",
    "# Saving\n",
    "artists_similarity_df = pd.DataFrame(artists_similarity, index=countries, columns=countries)\n",
    "genres_similarity_df = pd.DataFrame(genres_similarity, index=countries, columns=countries)\n",
    "\n",
    "artists_similarity_df.to_csv(\"../data/artists_similarity.csv\", encoding=\"utf-8\")\n",
    "genres_similarity_df.to_csv(\"../data/genres_similarity.csv\", encoding=\"utf-8\")\n",
    "print(\"Similarity matrices saved.\")"
   ]
  },
  {
   "cell_type": "code",
   "execution_count": 5,
   "metadata": {},
   "outputs": [
    {
     "name": "stdout",
     "output_type": "stream",
     "text": [
      "Shared artists between at and be:\n",
      "{'Gigi Perez', 'HUGEL', 'ROSÉ', 'David Guetta', 'Billie Eilish', 'Lady Gaga', 'The Weeknd', 'Linkin Park', 'Myles Smith', 'Chappell Roan', 'Bruno Mars', 'Gracie Abrams'}\n",
      "\n",
      "Shared genres between at and be:\n",
      "{'edm', 'tropical house', 'melodic house', 'pop', 'art pop', 'tech house', 'afro house', 'rap metal', 'alternative metal', 'k-pop', 'dance', 'soft pop', 'brazilian pop', 'funk pop', 'house', 'rage rap', 'rock', 'nu metal', 'latin house'}\n"
     ]
    }
   ],
   "source": [
    "# Print shared artists and genres between country 0 and 1 for verification\n",
    "country_0 = countries[0]\n",
    "country_1 = countries[1]\n",
    "\n",
    "shared_artists = df[\"Top Artists\"].iloc[0] & df[\"Top Artists\"].iloc[1]\n",
    "shared_genres = df[\"Top Genres\"].iloc[0] & df[\"Top Genres\"].iloc[1]\n",
    "\n",
    "print(f\"Shared artists between {country_0} and {country_1}:\")\n",
    "print(shared_artists)\n",
    "\n",
    "print(f\"\\nShared genres between {country_0} and {country_1}:\")\n",
    "print(shared_genres)\n",
    "\n"
   ]
  },
  {
   "cell_type": "code",
   "execution_count": 7,
   "metadata": {},
   "outputs": [],
   "source": [
    "normalized_artists_similarity = np.zeros((num_countries, num_countries))\n",
    "normalized_genres_similarity = np.zeros((num_countries, num_countries))\n",
    "\n",
    "for i in range(num_countries):\n",
    "    for j in range(i, num_countries):  # Only compute upper triangle (symmetry)\n",
    "        if i == j:\n",
    "            normalized_artists_similarity[i, j] = 1  # Full similarity with itself\n",
    "            normalized_genres_similarity[i, j] = 1\n",
    "        else:\n",
    "            # Compute Jaccard similarity (intersection / union) for normalization\n",
    "            total_artists = len(df[\"Top Artists\"].iloc[i] | df[\"Top Artists\"].iloc[j])\n",
    "            total_genres = len(df[\"Top Genres\"].iloc[i] | df[\"Top Genres\"].iloc[j])\n",
    "\n",
    "            normalized_artists_similarity[i, j] = normalized_artists_similarity[j, i] = (\n",
    "                artists_similarity[i, j] / total_artists if total_artists > 0 else 0\n",
    "            )\n",
    "            normalized_genres_similarity[i, j] = normalized_genres_similarity[j, i] = (\n",
    "                genres_similarity[i, j] / total_genres if total_genres > 0 else 0\n",
    "            )\n",
    "\n",
    "# Saving\n",
    "normalized_artists_similarity_df = pd.DataFrame(normalized_artists_similarity, index=countries, columns=countries)\n",
    "normalized_genres_similarity_df = pd.DataFrame(normalized_genres_similarity, index=countries, columns=countries)\n",
    "\n",
    "normalized_artists_similarity_df.to_csv(\"../data/normalized_artists_similarity.csv\", encoding=\"utf-8\")\n",
    "normalized_genres_similarity_df.to_csv(\"../data/normalized_genres_similarity.csv\", encoding=\"utf-8\")"
   ]
  }
 ],
 "metadata": {
  "kernelspec": {
   "display_name": "Python 3",
   "language": "python",
   "name": "python3"
  },
  "language_info": {
   "codemirror_mode": {
    "name": "ipython",
    "version": 3
   },
   "file_extension": ".py",
   "mimetype": "text/x-python",
   "name": "python",
   "nbconvert_exporter": "python",
   "pygments_lexer": "ipython3",
   "version": "3.11.5"
  }
 },
 "nbformat": 4,
 "nbformat_minor": 2
}
